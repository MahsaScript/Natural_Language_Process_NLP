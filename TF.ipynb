{
  "nbformat": 4,
  "nbformat_minor": 0,
  "metadata": {
    "colab": {
      "name": "TF.ipynb",
      "provenance": []
    },
    "kernelspec": {
      "name": "python3",
      "display_name": "Python 3"
    },
    "language_info": {
      "name": "python"
    }
  },
  "cells": [
    {
      "cell_type": "code",
      "metadata": {
        "colab": {
          "base_uri": "https://localhost:8080/"
        },
        "id": "ioZ8zPDdzXzk",
        "outputId": "1d6be093-23be-4ccf-b9b3-a98e553d40fc"
      },
      "source": [
        "# -*- coding: utf-8 -*-\n",
        "\"\"\"\n",
        "Created on Sun Jun  6 20:48:03 2021\n",
        "\n",
        "@author: Mahsa\n",
        "\"\"\"\n",
        "\n",
        "\n",
        "with open('demofile.txt') as documentA:\n",
        "    bagOfWordsA=[word for line in documentA for word in line.split()]\n",
        "\n",
        "with open('demofile2.txt') as documentB:\n",
        "    bagOfWordsB=[word for line in documentB for word in line.split()]\n",
        "\n",
        "\n",
        "\n",
        "uniqueWords = set(bagOfWordsA).union(set(bagOfWordsB))\n",
        "\n",
        "numOfWordsA = dict.fromkeys(uniqueWords,0)\n",
        "\n",
        "for word in bagOfWordsA: \n",
        "    numOfWordsA[word] +=1\n",
        "\n",
        "numOfWordsB = dict.fromkeys(uniqueWords,0)\n",
        "\n",
        "for word in bagOfWordsB: \n",
        "    numOfWordsB[word] +=1\n",
        "    \n",
        "def computeTF(wordDict, bagOfWords):\n",
        "    tfDict = {}\n",
        "    bagOfWordsCount = len(bagOfWords)\n",
        "    \n",
        "    for word, count in wordDict.items():\n",
        "        tfDict[word] =count/ float(bagOfWordsCount)\n",
        "    return tfDict\n",
        "\n",
        "tfA= computeTF(numOfWordsA, bagOfWordsA)\n",
        "print('tfA:',tfA)\n",
        "tfB= computeTF(numOfWordsB, bagOfWordsB)\n",
        "print('tfB:',tfB)\n",
        "def cosinesim(vec1, vec2):\n",
        "    commonterms = set(vec1).intersection(vec2)\n",
        "    sim = 0.0\n",
        "    for token in commonterms:\n",
        "        sim += vec1[token]*vec2[token]\n",
        "\n",
        "    return sim\n",
        "\n",
        "print('Similarity TF_A and TF_B:',cosinesim(tfA, tfB))\n"
      ],
      "execution_count": 4,
      "outputs": [
        {
          "output_type": "stream",
          "text": [
            "tfA: {'and': 0.0, 'get': 0.0, 'for': 0.10344827586206896, 'needunder': 0.0, 'everything': 0.0, 'places': 0.0, 'have': 0.034482758620689655, 'roof.': 0.0, 'Do': 0.034482758620689655, 'love': 0.0, 'Malls': 0.034482758620689655, 'Should': 0.0, 'What': 0.034482758620689655, 'wait': 0.034482758620689655, 'toastedcheese': 0.0, 'sandwiches?': 0.034482758620689655, 'start': 0.034482758620689655, 'tuna': 0.0, 'can': 0.0, 'great': 0.0, 'used': 0.034482758620689655, 'or': 0.034482758620689655, 'sandwiches.': 0.0, 'is': 0.034482758620689655, 'good': 0.034482758620689655, 'shopping.': 0.034482758620689655, 'shop,': 0.0, 'now,': 0.034482758620689655, 'are': 0.034482758620689655, 'one': 0.0, 'should': 0.034482758620689655, 'come': 0.034482758620689655, 'we': 0.06896551724137931, 'class': 0.034482758620689655, 'find': 0.0, 'eating': 0.0, 'everyone': 0.034482758620689655, 'kind': 0.034482758620689655, 'here?': 0.034482758620689655, 'I': 0.0, 'of': 0.034482758620689655, 'to': 0.06896551724137931, 'bread': 0.034482758620689655}\n",
            "tfB: {'and': 0.02857142857142857, 'get': 0.02857142857142857, 'for': 0.02857142857142857, 'needunder': 0.02857142857142857, 'everything': 0.02857142857142857, 'places': 0.02857142857142857, 'have': 0.0, 'roof.': 0.02857142857142857, 'Do': 0.0, 'love': 0.02857142857142857, 'Malls': 0.02857142857142857, 'Should': 0.02857142857142857, 'What': 0.0, 'wait': 0.02857142857142857, 'toastedcheese': 0.02857142857142857, 'sandwiches?': 0.0, 'start': 0.02857142857142857, 'tuna': 0.02857142857142857, 'can': 0.02857142857142857, 'great': 0.02857142857142857, 'used': 0.0, 'or': 0.02857142857142857, 'sandwiches.': 0.02857142857142857, 'is': 0.0, 'good': 0.0, 'shopping.': 0.0, 'shop,': 0.02857142857142857, 'now,': 0.02857142857142857, 'are': 0.02857142857142857, 'one': 0.02857142857142857, 'should': 0.02857142857142857, 'come': 0.0, 'we': 0.05714285714285714, 'class': 0.02857142857142857, 'find': 0.02857142857142857, 'eating': 0.02857142857142857, 'everyone': 0.02857142857142857, 'kind': 0.0, 'here?': 0.02857142857142857, 'I': 0.08571428571428572, 'of': 0.0, 'to': 0.05714285714285714, 'bread': 0.0}\n",
            "Similarity TF_A and TF_B: 0.020689655172413786\n"
          ],
          "name": "stdout"
        }
      ]
    },
    {
      "cell_type": "markdown",
      "metadata": {
        "id": "xELyoMvXzeRq"
      },
      "source": [
        "# New Section"
      ]
    }
  ]
}